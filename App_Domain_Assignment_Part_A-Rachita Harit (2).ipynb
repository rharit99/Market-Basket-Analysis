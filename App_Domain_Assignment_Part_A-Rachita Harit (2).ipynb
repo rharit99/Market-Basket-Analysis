{
 "cells": [
  {
   "cell_type": "markdown",
   "metadata": {
    "id": "zT6R7etovFog"
   },
   "source": [
    "# INDIVIDUAL ASSIGNMENT 2  - Association Rule Mining\n",
    "# SUBMITTED BY - RACHITA HARIT"
   ]
  },
  {
   "cell_type": "code",
   "execution_count": 1,
   "metadata": {
    "colab": {
     "base_uri": "https://localhost:8080/"
    },
    "id": "6NsntYPY6pMA",
    "outputId": "f6bf1bf1-f704-4b2e-d3e7-9ad9d4c6d6ae"
   },
   "outputs": [
    {
     "name": "stdout",
     "output_type": "stream",
     "text": [
      "Collecting apyori\n",
      "  Downloading apyori-1.1.2.tar.gz (8.6 kB)\n",
      "  Preparing metadata (setup.py) ... \u001b[?25l\u001b[?25hdone\n",
      "Building wheels for collected packages: apyori\n",
      "  Building wheel for apyori (setup.py) ... \u001b[?25l\u001b[?25hdone\n",
      "  Created wheel for apyori: filename=apyori-1.1.2-py3-none-any.whl size=5955 sha256=6eb3eabb76f4b013c0174b6db66f2cb93f54c863d3c0eed32cdd09cb80b0097c\n",
      "  Stored in directory: /root/.cache/pip/wheels/c4/1a/79/20f55c470a50bb3702a8cb7c94d8ada15573538c7f4baebe2d\n",
      "Successfully built apyori\n",
      "Installing collected packages: apyori\n",
      "Successfully installed apyori-1.1.2\n"
     ]
    }
   ],
   "source": [
    "#install the necessary library\n",
    "\n",
    "!pip install apyori"
   ]
  },
  {
   "cell_type": "code",
   "execution_count": 4,
   "metadata": {
    "colab": {
     "base_uri": "https://localhost:8080/"
    },
    "id": "3OM-yJ5dibkM",
    "outputId": "2eba9f99-7990-4498-b710-73d3fefa12b5"
   },
   "outputs": [
    {
     "name": "stdout",
     "output_type": "stream",
     "text": [
      "Requirement already satisfied: apyori in /usr/local/lib/python3.10/dist-packages (1.1.2)\n",
      "Successfully loaded products.csv.\n",
      "Successfully loaded order_products__train.csv.\n",
      "Successfully loaded orders.csv.\n",
      "Association Rules:\n",
      "Rule: If a customer buys [], they may also buy [Bag of Organic Bananas]\n",
      "Support: 0.1163, Confidence: 0.1163, Lift: 1.0000\n",
      "=====================================\n",
      "Rule: If a customer buys [], they may also buy [Banana]\n",
      "Support: 0.1425, Confidence: 0.1425, Lift: 1.0000\n",
      "=====================================\n",
      "Rule: If a customer buys [Bag of Organic Bananas], they may also buy [Organic Baby Spinach]\n",
      "Support: 0.0167, Confidence: 0.1438, Lift: 1.9137\n",
      "=====================================\n",
      "Rule: If a customer buys [Organic Baby Spinach], they may also buy [Bag of Organic Bananas]\n",
      "Support: 0.0167, Confidence: 0.2226, Lift: 1.9137\n",
      "=====================================\n",
      "Rule: If a customer buys [Bag of Organic Bananas], they may also buy [Organic Hass Avocado]\n",
      "Support: 0.0183, Confidence: 0.1571, Lift: 2.8038\n",
      "=====================================\n",
      "Rule: If a customer buys [Organic Hass Avocado], they may also buy [Bag of Organic Bananas]\n",
      "Support: 0.0183, Confidence: 0.3262, Lift: 2.8038\n",
      "=====================================\n",
      "Rule: If a customer buys [Bag of Organic Bananas], they may also buy [Organic Raspberries]\n",
      "Support: 0.0138, Confidence: 0.1184, Lift: 2.8485\n",
      "=====================================\n",
      "Rule: If a customer buys [Organic Raspberries], they may also buy [Bag of Organic Bananas]\n",
      "Support: 0.0138, Confidence: 0.3314, Lift: 2.8485\n",
      "=====================================\n",
      "Rule: If a customer buys [Bag of Organic Bananas], they may also buy [Organic Strawberries]\n",
      "Support: 0.0235, Confidence: 0.2018, Lift: 2.4730\n",
      "=====================================\n",
      "Rule: If a customer buys [Organic Strawberries], they may also buy [Bag of Organic Bananas]\n",
      "Support: 0.0235, Confidence: 0.2877, Lift: 2.4730\n",
      "=====================================\n",
      "Rule: If a customer buys [Banana], they may also buy [Large Lemon]\n",
      "Support: 0.0158, Confidence: 0.1110, Lift: 1.8109\n",
      "=====================================\n",
      "Rule: If a customer buys [Large Lemon], they may also buy [Banana]\n",
      "Support: 0.0158, Confidence: 0.2581, Lift: 1.8109\n",
      "=====================================\n",
      "Rule: If a customer buys [Limes], they may also buy [Banana]\n",
      "Support: 0.0100, Confidence: 0.2204, Lift: 1.5461\n",
      "=====================================\n",
      "Rule: If a customer buys [Banana], they may also buy [Organic Avocado]\n",
      "Support: 0.0176, Confidence: 0.1235, Lift: 2.1506\n",
      "=====================================\n",
      "Rule: If a customer buys [Organic Avocado], they may also buy [Banana]\n",
      "Support: 0.0176, Confidence: 0.3065, Lift: 2.1506\n",
      "=====================================\n",
      "Rule: If a customer buys [Banana], they may also buy [Organic Baby Spinach]\n",
      "Support: 0.0156, Confidence: 0.1092, Lift: 1.4541\n",
      "=====================================\n",
      "Rule: If a customer buys [Organic Baby Spinach], they may also buy [Banana]\n",
      "Support: 0.0156, Confidence: 0.2073, Lift: 1.4541\n",
      "=====================================\n",
      "Rule: If a customer buys [Banana], they may also buy [Organic Strawberries]\n",
      "Support: 0.0160, Confidence: 0.1122, Lift: 1.3745\n",
      "=====================================\n",
      "Rule: If a customer buys [Organic Strawberries], they may also buy [Banana]\n",
      "Support: 0.0160, Confidence: 0.1959, Lift: 1.3745\n",
      "=====================================\n",
      "Rule: If a customer buys [Banana], they may also buy [Strawberries]\n",
      "Support: 0.0148, Confidence: 0.1039, Lift: 2.0647\n",
      "=====================================\n",
      "Rule: If a customer buys [Strawberries], they may also buy [Banana]\n",
      "Support: 0.0148, Confidence: 0.2943, Lift: 2.0647\n",
      "=====================================\n",
      "Rule: If a customer buys [Large Lemon], they may also buy [Limes]\n",
      "Support: 0.0120, Confidence: 0.1960, Lift: 4.3000\n",
      "=====================================\n",
      "Rule: If a customer buys [Limes], they may also buy [Large Lemon]\n",
      "Support: 0.0120, Confidence: 0.2635, Lift: 4.3000\n",
      "=====================================\n",
      "Rule: If a customer buys [Large Lemon], they may also buy [Organic Avocado]\n",
      "Support: 0.0103, Confidence: 0.1687, Lift: 2.9376\n",
      "=====================================\n",
      "Rule: If a customer buys [Organic Avocado], they may also buy [Large Lemon]\n",
      "Support: 0.0103, Confidence: 0.1800, Lift: 2.9376\n",
      "=====================================\n",
      "Rule: If a customer buys [Organic Avocado], they may also buy [Organic Baby Spinach]\n",
      "Support: 0.0108, Confidence: 0.1877, Lift: 2.4984\n",
      "=====================================\n",
      "Rule: If a customer buys [Organic Baby Spinach], they may also buy [Organic Avocado]\n",
      "Support: 0.0108, Confidence: 0.1435, Lift: 2.4984\n",
      "=====================================\n",
      "Rule: If a customer buys [Organic Baby Spinach], they may also buy [Organic Strawberries]\n",
      "Support: 0.0121, Confidence: 0.1615, Lift: 1.9789\n",
      "=====================================\n",
      "Rule: If a customer buys [Organic Strawberries], they may also buy [Organic Baby Spinach]\n",
      "Support: 0.0121, Confidence: 0.1487, Lift: 1.9789\n",
      "=====================================\n",
      "Rule: If a customer buys [Organic Hass Avocado], they may also buy [Organic Strawberries]\n",
      "Support: 0.0118, Confidence: 0.2109, Lift: 2.5840\n",
      "=====================================\n",
      "Rule: If a customer buys [Organic Strawberries], they may also buy [Organic Hass Avocado]\n",
      "Support: 0.0118, Confidence: 0.1447, Lift: 2.5840\n",
      "=====================================\n",
      "Rule: If a customer buys [Organic Raspberries], they may also buy [Organic Strawberries]\n",
      "Support: 0.0119, Confidence: 0.2859, Lift: 3.5032\n",
      "=====================================\n",
      "Rule: If a customer buys [Organic Strawberries], they may also buy [Organic Raspberries]\n",
      "Support: 0.0119, Confidence: 0.1457, Lift: 3.5032\n",
      "=====================================\n"
     ]
    }
   ],
   "source": [
    "\n",
    "\n",
    "# Import necessary libraries\n",
    "import pandas as pd\n",
    "from apyori import apriori\n",
    "\n",
    "# Function to safely load CSV files\n",
    "def load_csv(filename, expected_columns):\n",
    "    try:\n",
    "        data = pd.read_csv(filename, on_bad_lines='skip')\n",
    "        print(f\"Successfully loaded {filename}.\")\n",
    "        if data.shape[1] != expected_columns:\n",
    "            print(f\"Warning: Some columns may be missing or extra in {filename}. Expected {expected_columns}, found {data.shape[1]} columns.\")\n",
    "    except Exception as e:\n",
    "        print(f\"Failed to load {filename} due to an error: {e}\")\n",
    "        return None\n",
    "    return data\n",
    "\n",
    "# Load the datasets with expected column counts for verification\n",
    "products = load_csv('products.csv', 4)  # product_id, product_name, aisle_id, department_id\n",
    "order_products_train = load_csv('order_products__train.csv', 4)  # order_id, product_id, add_to_cart_order, reordered\n",
    "orders = load_csv('orders.csv', 7)  # order_id, user_id, eval_set, order_number, order_dow, order_hour_of_day, days_since_prior_order\n",
    "\n",
    "# Check if any file failed to load\n",
    "if products is None or order_products_train is None or orders is None:\n",
    "    raise SystemExit(\"One or more files failed to load, please check the files and try again.\")\n",
    "\n",
    "# Merge order_products_train with products to link product names with each order\n",
    "merged_data = pd.merge(order_products_train[['order_id', 'product_id']], products[['product_id', 'product_name']], on='product_id')\n",
    "\n",
    "# Group the data by order_id and collect all product names associated with each order\n",
    "transactions = merged_data.groupby('order_id')['product_name'].apply(list).tolist()\n",
    "\n",
    "# Specify the minimum support and confidence values\n",
    "min_support_value = 0.01\n",
    "min_confidence_value = 0.1\n",
    "\n",
    "# Run the Apriori algorithm to find frequent itemsets and association rules\n",
    "rules = list(apriori(transactions, min_support=min_support_value, min_confidence=min_confidence_value, min_lift=1.0))\n",
    "\n",
    "# Print out the discovered rules\n",
    "print(\"Association Rules:\")\n",
    "for rule in rules:\n",
    "    base_items = ', '.join(rule.items)\n",
    "    support = rule.support\n",
    "    for stats in rule.ordered_statistics:\n",
    "        antecedent = ', '.join(stats.items_base)\n",
    "        consequent = ', '.join(stats.items_add)\n",
    "        confidence = stats.confidence\n",
    "        lift = stats.lift\n",
    "        print(f\"Rule: If a customer buys [{antecedent}], they may also buy [{consequent}]\")\n",
    "        print(f\"Support: {support:.4f}, Confidence: {confidence:.4f}, Lift: {lift:.4f}\")\n",
    "        print(\"=====================================\")\n"
   ]
  },
  {
   "cell_type": "markdown",
   "metadata": {
    "id": "O_bz2zCyvRlA"
   },
   "source": [
    "# Business Recommendations"
   ]
  },
  {
   "cell_type": "markdown",
   "metadata": {
    "id": "Glux6s_ptyyT"
   },
   "source": [
    "Following are some business recommendations to leverage insights from an association rule-based recommender system to further enhance business outcomes:\n",
    "\n",
    "**1. Dynamic Pricing Strategies**\n",
    "Recommendation: Implement dynamic pricing models that adjust based on the combination of products customers frequently buy together. This strategy uses the insights from association rules to maximize profit margins and increase sales volume.\n",
    "\n",
    "**Variable Pricing**: Adjust prices dynamically when certain items are bought together. For example, if Organic Bananas and Organic Avocado are often purchased together, offer a slight price reduction on the combo during peak shopping times to encourage further purchases.\n",
    "\n",
    "**Flash Sales:** Launch flash sales on combinations of items that have a strong association. This could be particularly effective during specific hours of the day or days of the week when traffic is higher.\n",
    "\n",
    "**Price Optimization Algorithms:** Use predictive analytics to set prices based on customer buying patterns and preferences discovered from the association rules. This could help in optimizing the prices for maximum turnover and profitability.\n",
    "\n",
    "\n",
    "**2. Enhanced Customer Experience Initiatives**\n",
    "Recommendation: Enhance the overall shopping experience by using insights from the data to inform store layout, customer service, and personalized shopping aids.\n",
    "\n",
    "**Personalized Shopping Lists:** Offer customers personalized shopping lists when they enter the store or log into the online platform, suggesting items they frequently buy together according to past purchase data.\n",
    "\n",
    "**Smart Shopping Carts:** Develop smart shopping cart features, either physically in-store or virtually online, that suggest items to add based on what's already in the cart, leveraging real-time data analytics.\n",
    "\n",
    "**Customer Service Training:**Train customer service representatives to recognize opportunities to suggest additional purchases based on the most common item associations, enhancing upselling and cross-selling practices effectively.\n",
    "\n",
    "\n",
    "**3. Focused Promotional Campaigns**\n",
    "**Recommendation:** Exploit the insights derived from the association rules to design precise marketing campaigns that spotlight products frequently bought together, such as promoting Large Lemons and Limes in conjunction.\n",
    "\n",
    "**Tailored Email Campaigns:** Dispatch customized email promotions that offer recipes or ideas for using the combined products, like a recipe for a refreshing summer drink using Large Lemons and Limes.\n",
    "\n",
    "**Special Discount Offers:** Introduce promotions such as a weekly deal where purchasing one product results in a discount on another associated product. For example, buying a Banana could trigger a 20% discount on Organic Avocado.\n",
    "\n",
    "**Loyalty Program Enhancements:** Provide additional loyalty points for purchases of product pairings identified through the association rules, such as buying both Organic Raspberries and Organic Strawberries together.\n",
    "\n",
    "\n",
    "\n",
    "\n",
    "\n"
   ]
  }
 ],
 "metadata": {
  "colab": {
   "provenance": []
  },
  "kernelspec": {
   "display_name": "Python 3 (ipykernel)",
   "language": "python",
   "name": "python3"
  },
  "language_info": {
   "codemirror_mode": {
    "name": "ipython",
    "version": 3
   },
   "file_extension": ".py",
   "mimetype": "text/x-python",
   "name": "python",
   "nbconvert_exporter": "python",
   "pygments_lexer": "ipython3",
   "version": "3.11.5"
  }
 },
 "nbformat": 4,
 "nbformat_minor": 1
}
